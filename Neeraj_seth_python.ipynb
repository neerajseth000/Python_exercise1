{
 "cells": [
  {
   "cell_type": "markdown",
   "metadata": {},
   "source": [
    "# <center>PGP Data Science Engineering</center>\n",
    "## <center>Introduction to Programming – Mini Project:</center>\n"
   ]
  },
  {
   "cell_type": "markdown",
   "metadata": {},
   "source": [
    "### Problem 1:\n",
    "\n",
    "1. Write a program to calculate area of shapes. Your program should be capable of calculating the area of a square, rectangle, triangle and a circle. The user should be presented with options to select the shape. Based on which shape is chosed by the user, the program should ask for the appropriate input and print the resulting area on the screen.\n",
    "\n",
    "When the program is run, the screen should display something like this:\n",
    "\n",
    "**Which shape would you like to calculate the area for? Please enter the option number-**<br>\n",
    "**1. Square**<br>\n",
    "**2. Rectangle**<br>\n",
    "**3. Triangle**<br>\n",
    "**4. Circle**<br>\n",
    "**Enter Option: _**\n",
    "\n",
    "Say the user enters the option 1.\n",
    "\n",
    "**Please enter the length of a side: _**\n",
    "\n",
    "If the user enters a value of 5. The output should be:\n",
    "\n",
    "**The area of the square is 25**\n",
    "\n",
    "This program should indicate that the input is invalid if the user enters a character instead of a number as input. For instance if the user enters a value of ‘a’ instead of 5 in the previous example the program should prompt:\n",
    "\n",
    "**Invalid input, please enter a number: _**\n"
   ]
  },
  {
   "cell_type": "code",
   "execution_count": 2,
   "metadata": {},
   "outputs": [
    {
     "name": "stdout",
     "output_type": "stream",
     "text": [
      "Which shape would you like to calculate the area for? Please enter the option number-\n",
      "                    1. Square\n",
      "                    2. Rectangle\n",
      "                    3. Triangle\n",
      "                    4. Circle\n",
      "Enter Option: 4\n",
      "Enter the radius of circle: 1\n",
      "Area of circle=  3.142857142857143\n"
     ]
    }
   ],
   "source": [
    "x=0\n",
    "print('''Which shape would you like to calculate the area for? Please enter the option number-\n",
    "                    1. Square\n",
    "                    2. Rectangle\n",
    "                    3. Triangle\n",
    "                    4. Circle''')\n",
    "while x!='stop':\n",
    "    try:\n",
    "        x=int(input(\"Enter Option: \"))\n",
    "        if x==1:\n",
    "            a=float(input(\"Enter the side of square: \"))\n",
    "            area=a*a\n",
    "            print(\"Area of square= \",area)\n",
    "            x='stop'\n",
    "        elif x==2:\n",
    "            b=float(input(\"Enter the base of rectangle: \"))\n",
    "            l=float(input(\"Enter the length of rectangle: \"))\n",
    "            area=b*l\n",
    "            print(\"Area of rectangle= \",area)\n",
    "            x='stop'\n",
    "        elif x==3:\n",
    "            b=float(input(\"Enter the base of triangle: \"))\n",
    "            h=float(input(\"Enter the hight of triangle: \"))\n",
    "            area=0.5*b*h\n",
    "            print(\"Area of triangle= \",area)\n",
    "            x='stop'\n",
    "        elif x==4:\n",
    "            r=float(input(\"Enter the radius of circle: \"))\n",
    "            area=r*r*22/7\n",
    "            print(\"Area of circle= \",area)\n",
    "            x='stop'\n",
    "        else :\n",
    "            print(\"Invalid input, please enter valid number\")\n",
    "#             x=int(input(\"Invalid input, Please enter again: \"))\n",
    "    except ValueError:\n",
    "        print(\"Invalid input, please enter a number\")\n",
    "#         x=int(input(\"Invalid input, Please enter again: \")) "
   ]
  },
  {
   "cell_type": "code",
   "execution_count": null,
   "metadata": {},
   "outputs": [],
   "source": []
  },
  {
   "cell_type": "markdown",
   "metadata": {},
   "source": [
    "### Problem 2:\n",
    "\n",
    "Create and encrypter in python based on the ceaser cipher. It is a substitution cipher where each character of the original text is shifted a certain number characters in the alphabet. Write a function that would require 2 arguments – the input text to be encrypted and a key. For eg: Given the input text ‘hello’ and the key 3, the resulting encryted text would be ‘khoor’. Here you can see that every character in the string hello is shifted by 3 characters. ‘h’ has shifted to ‘k’, ‘e’ has shifted to ‘h’ and so on. If a key of 5 were used, the resulting string would be ‘mjqqt’. This function should be capable of ignoring any characters which are not alphabets. Th2 character ‘z’ entered b\n",
    "y the user for a key of 3 would result in ‘c’.\n",
    "\n",
    "Usage:<br>\n",
    "**encrypt(‘hello world!’, 3)**<br>\n",
    "**‘khoor zruog!’**\n",
    "\n",
    "Similarly create decrypter which can decode the encryted text when provided the input text and key\n",
    "\n",
    "Usage:<br>\n",
    "**decrypt(‘khoor zruog!’, 3)**<br>\n",
    "**‘hello world!’**\n",
    "\n",
    "For the sake of simplicity you can assume that input solely consists of lowercase alphabets, spaces and punctuation symbols. Numbers in the input text would also be ignored similar to symbols."
   ]
  },
  {
   "cell_type": "code",
   "execution_count": 8,
   "metadata": {},
   "outputs": [
    {
     "name": "stdout",
     "output_type": "stream",
     "text": [
      "Enter text: a b c d\n",
      "Enter key: 5\n",
      "encrypted f g h i\n",
      "decrypted a b c d\n"
     ]
    }
   ],
   "source": [
    "store=['a','b','c','d','e','f','g','h','i','j','k','l','m','n','o','p','q','r','s','t','u','v','w','x','y','z']\n",
    "encrypt1=[]\n",
    "decrypt1=[]\n",
    "def encrypt (text,key):\n",
    "    encrypt=list(text)\n",
    "    for i in encrypt:\n",
    "        if i==\" \":\n",
    "            c=\" \"\n",
    "        else:\n",
    "            a=store.index(i)\n",
    "            b=a+key\n",
    "            if b>25:\n",
    "                b=b-25-1\n",
    "            else:\n",
    "                b=b\n",
    "            c=store[b]\n",
    "        encrypt1.append(c)\n",
    "    return(\"\".join(encrypt1))      \n",
    "\n",
    "def decrypt (text,key):\n",
    "    decrypt=list(text)\n",
    "    for i in decrypt:\n",
    "        if i==\" \":\n",
    "            c=\" \"\n",
    "        else:\n",
    "            a=store.index(i)\n",
    "            b=a-key\n",
    "            if b<0:\n",
    "                b=25+b+1\n",
    "            else:\n",
    "                b=b\n",
    "            c=store[b]\n",
    "        decrypt1.append(c)\n",
    "    return(\"\".join(decrypt1))\n",
    "\n",
    "\n",
    "text=input(\"Enter text: \")\n",
    "key=int(input(\"Enter key: \"))\n",
    "print(\"encrypted\",encrypt(text,key))\n",
    "print(\"decrypted\",decrypt(encrypt1,key))\n",
    "   "
   ]
  },
  {
   "cell_type": "code",
   "execution_count": null,
   "metadata": {},
   "outputs": [],
   "source": []
  }
 ],
 "metadata": {
  "kernelspec": {
   "display_name": "Python 3",
   "language": "python",
   "name": "python3"
  },
  "language_info": {
   "codemirror_mode": {
    "name": "ipython",
    "version": 3
   },
   "file_extension": ".py",
   "mimetype": "text/x-python",
   "name": "python",
   "nbconvert_exporter": "python",
   "pygments_lexer": "ipython3",
   "version": "3.7.3"
  }
 },
 "nbformat": 4,
 "nbformat_minor": 2
}
