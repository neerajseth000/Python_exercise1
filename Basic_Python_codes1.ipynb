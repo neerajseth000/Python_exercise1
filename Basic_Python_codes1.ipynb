{
 "cells": [
  {
   "cell_type": "markdown",
   "metadata": {},
   "source": [
    "# Exercise_whatsapp"
   ]
  },
  {
   "cell_type": "code",
   "execution_count": 52,
   "metadata": {},
   "outputs": [
    {
     "name": "stdout",
     "output_type": "stream",
     "text": [
      "full name is :  Monty Python\n",
      "first name is :  Monty \n",
      "length of name is :  11\n",
      "status of word 'f' in full name :  False\n",
      "split name is :  ['Monty', 'Python']\n"
     ]
    }
   ],
   "source": [
    "name='Monty'\n",
    "title='Python'\n",
    "full_name=name+\" \"+title\n",
    "len_name=len(full_name)-1\n",
    "first_name=full_name[0:6]\n",
    "is_f='f' in full_name\n",
    "split=full_name.split(\" \")\n",
    "print(\"full name is : \",full_name)\n",
    "print(\"first name is : \",first_name)\n",
    "print(\"length of name is : \",len_name)\n",
    "print(\"status of word 'f' in full name : \",is_f)\n",
    "print(\"split name is : \",split)"
   ]
  },
  {
   "cell_type": "markdown",
   "metadata": {},
   "source": [
    "# boolean operatio for finding string"
   ]
  },
  {
   "cell_type": "code",
   "execution_count": 1,
   "metadata": {},
   "outputs": [
    {
     "name": "stdout",
     "output_type": "stream",
     "text": [
      "Is start with neeraj?  True\n",
      "Is end with seth?  True\n"
     ]
    }
   ],
   "source": [
    "my_name='neeraj seth'\n",
    "start_with=my_name.startswith(\"neeraj\",0,len(my_name))# 0 is used to search from 1st index\n",
    "ends_with=my_name.endswith(\"seth\",0,len(my_name))\n",
    "print(\"Is start with neeraj? \",start_with)\n",
    "print(\"Is end with seth? \",ends_with)"
   ]
  },
  {
   "cell_type": "markdown",
   "metadata": {},
   "source": [
    "# uppercase/lowercase"
   ]
  },
  {
   "cell_type": "code",
   "execution_count": 19,
   "metadata": {},
   "outputs": [
    {
     "name": "stdout",
     "output_type": "stream",
     "text": [
      "NEERAJ SETH\n",
      "neeraj seth\n"
     ]
    }
   ],
   "source": [
    "str='Neeraj seth'\n",
    "print(str.upper())\n",
    "print(str.lower())"
   ]
  },
  {
   "cell_type": "markdown",
   "metadata": {},
   "source": [
    "# Mutability of string"
   ]
  },
  {
   "cell_type": "code",
   "execution_count": 4,
   "metadata": {},
   "outputs": [
    {
     "name": "stdout",
     "output_type": "stream",
     "text": [
      "2543029821088\n",
      "2543029049968\n",
      "140704152589408\n",
      "140704152589568\n"
     ]
    }
   ],
   "source": [
    "#it shows different ID\n",
    "str=\"Mumbai\"\n",
    "print(id(str))\n",
    "str=str+\"mahanagri\"\n",
    "print(id(str))\n",
    "a=10\n",
    "print(id(a))\n",
    "a=a+5\n",
    "print(id(a))"
   ]
  },
  {
   "cell_type": "markdown",
   "metadata": {},
   "source": [
    "# Replace any word"
   ]
  },
  {
   "cell_type": "code",
   "execution_count": 39,
   "metadata": {},
   "outputs": [
    {
     "name": "stdout",
     "output_type": "stream",
     "text": [
      "bumbai\n",
      "bubbai\n"
     ]
    }
   ],
   "source": [
    "str='mumbai'\n",
    "str=str.replace(\"m\",\"b\")#it will chang all m with b\n",
    "print(str)\n",
    "str1=str.replace(\"m\",\"b\",1)\n",
    "print(str1)"
   ]
  },
  {
   "cell_type": "markdown",
   "metadata": {},
   "source": [
    "# list"
   ]
  },
  {
   "cell_type": "code",
   "execution_count": 133,
   "metadata": {},
   "outputs": [
    {
     "name": "stdout",
     "output_type": "stream",
     "text": [
      "neeraj\n"
     ]
    }
   ],
   "source": [
    "list1=[]\n",
    "list2=[1,2,3,4]\n",
    "list3=['mango','apple','banana']\n",
    "a='neeraj'\n",
    "b='seth'\n",
    "print(a)"
   ]
  },
  {
   "cell_type": "markdown",
   "metadata": {},
   "source": [
    "# store 1 to 10 in list manually and print only even numbers using indexing and slicing"
   ]
  },
  {
   "cell_type": "code",
   "execution_count": 134,
   "metadata": {},
   "outputs": [
    {
     "name": "stdout",
     "output_type": "stream",
     "text": [
      "10\n",
      "List=  [1, 2, 3, 4, 5]\n",
      "even=  [2, 4, 6, 8, 10]\n",
      "odd=  [1, 3, 5, 7, 9]\n",
      "Reverse=  [10, 9, 8, 7, 6, 5, 4, 3, 2, 1]\n",
      "Reverse=  [10, 9, 8, 7, 6, 5, 4, 3, 2, 1]\n"
     ]
    }
   ],
   "source": [
    "#z=[1,2,3,4,5,6,7,8,9,10]\n",
    "#b=1\n",
    "#n=10\n",
    "#print(\"List 'b'= \",z[b:n])\n",
    "a=[1,2,3,4,5,6,7,8,9,10]\n",
    "print(len(a))\n",
    "print(\"List= \",a[0:5])\n",
    "print(\"even= \",a[1:len(a):2])\n",
    "print(\"odd= \" ,a[0:len(a):2])\n",
    "print(\"Reverse= \",a[-1::-1])\n",
    "print(\"Reverse= \",a[len(a)-1::-1])"
   ]
  },
  {
   "cell_type": "code",
   "execution_count": 6,
   "metadata": {},
   "outputs": [
    {
     "name": "stdout",
     "output_type": "stream",
     "text": [
      "add:  [1, 2, 3, 4, 5, 6]\n",
      "repeatation:  [[1, 2, 3], [1, 2, 3]]\n",
      "max:  3\n",
      "min:  1\n",
      "append:  [1, 2, 3, 10]\n",
      "extend:  [1, 2, 3, 10, 4, 5, 6]\n",
      "pop:  [1, 2, 3, 10, 4, 5]\n",
      "remove:  [1, 3, 10, 4, 5]\n"
     ]
    }
   ],
   "source": [
    "a=[1,2,3]\n",
    "b=[4,5,6]\n",
    "print(\"add: \",a+b)\n",
    "print(\"repeatation: \", [a]*2)       #repetition\n",
    "3 in a             #membership\n",
    "print(\"max: \",max(a))      #max value in list\n",
    "print(\"min: \",min(a))\n",
    "a.append(10)       #add 10 at end of list\n",
    "print(\"append: \",a)\n",
    "a.extend(b)#add list b in list a\n",
    "print(\"extend: \",a)\n",
    "a.pop()      #remove value of last index by defult or put index number whose value wants to remove\n",
    "print(\"pop: \",a)\n",
    "a.remove(2) #remove given number\n",
    "print(\"remove: \",a)"
   ]
  },
  {
   "cell_type": "markdown",
   "metadata": {},
   "source": [
    "# Weight Exercise"
   ]
  },
  {
   "cell_type": "code",
   "execution_count": 149,
   "metadata": {},
   "outputs": [
    {
     "name": "stdout",
     "output_type": "stream",
     "text": [
      "[70, 80, 48, 50]\n",
      "Sum:  248\n",
      "mean:  62.0\n"
     ]
    }
   ],
   "source": [
    "weight=[70,80,45,50]\n",
    "maximum=max(weight)\n",
    "#weight=weight.update(45,48)        #replace did not work in numbers\n",
    "weight[2]=48\n",
    "print(weight)\n",
    "total=sum(weight)\n",
    "print(\"Sum: \",total)\n",
    "length=len(weight)\n",
    "mean=total/length         #datatype of average operation will always be float\n",
    "print(\"mean: \",mean)"
   ]
  },
  {
   "cell_type": "markdown",
   "metadata": {},
   "source": [
    "# keys of Dictionary"
   ]
  },
  {
   "cell_type": "code",
   "execution_count": 162,
   "metadata": {},
   "outputs": [
    {
     "name": "stdout",
     "output_type": "stream",
     "text": [
      "{'roll': 101, 'age': 21, 'prog': 'datascience', 'mob': 958234}\n",
      "{'roll': 102, 'age': 21, 'prog': 'AI', 'mob': 992092}\n"
     ]
    },
    {
     "data": {
      "text/plain": [
       "dict_keys(['roll', 'age', 'prog', 'mob'])"
      ]
     },
     "execution_count": 162,
     "metadata": {},
     "output_type": "execute_result"
    }
   ],
   "source": [
    "stud1={\"roll\": 101,\"age\": 21,\"prog\": \"datascience\",\"mob\":958234}\n",
    "stud2={\"roll\": 102,\"age\": 21,\"prog\": \"AI\",\"mob\":992092}\n",
    "print(stud1)\n",
    "print(stud2)\n",
    "stud1.keys()       #display keys of dictionary"
   ]
  },
  {
   "cell_type": "code",
   "execution_count": 163,
   "metadata": {},
   "outputs": [
    {
     "data": {
      "text/plain": [
       "dict_keys(['roll', 'age', 'prog', 'mob', 'Home_phone'])"
      ]
     },
     "execution_count": 163,
     "metadata": {},
     "output_type": "execute_result"
    }
   ],
   "source": [
    "stud2[\"Home_phone\"]=123456          #Add new key in dictionary\n",
    "stud2.keys()"
   ]
  },
  {
   "cell_type": "code",
   "execution_count": 170,
   "metadata": {},
   "outputs": [
    {
     "name": "stdout",
     "output_type": "stream",
     "text": [
      "roll number: 1\n",
      "age: 2\n",
      "program: 3\n",
      "mobile: 4\n"
     ]
    }
   ],
   "source": [
    "#create dictioany and take input from user\n",
    "r=input(\"roll number: \")\n",
    "a=input(\"age: \")\n",
    "p=input(\"program: \")\n",
    "m=input(\"mobile: \")\n",
    "stud3={\"roll\":r,\"age\":a,\"prog\":p,\"mob\":m}\n",
    "print(stud3)"
   ]
  },
  {
   "cell_type": "code",
   "execution_count": 171,
   "metadata": {},
   "outputs": [
    {
     "name": "stdout",
     "output_type": "stream",
     "text": [
      "roll number: 1\n",
      "age: 2\n",
      "program: 3\n",
      "mobile: 4\n",
      "{'roll': '1', 'age': '2', 'prog': '3', 'mob': '4'}\n"
     ]
    }
   ],
   "source": [
    "#direct without using variable\n",
    "stud3={\"roll\":input(\"roll number: \"),\"age\":input(\"age: \"),\"prog\":input(\"program: \"),\"mob\":input(\"mobile: \")}\n",
    "print(stud3)"
   ]
  },
  {
   "cell_type": "code",
   "execution_count": 175,
   "metadata": {},
   "outputs": [
    {
     "name": "stdout",
     "output_type": "stream",
     "text": [
      "{'roll': '1', 'age': 22, 'prog': '3', 'mob': '4'}\n",
      "{'roll': '1', 'age': 22, 'prog': '3'}\n"
     ]
    }
   ],
   "source": [
    "#update vale\n",
    "stud3[\"age\"]=22\n",
    "print(stud3)\n",
    "\n",
    "#remove key in dictionary\n",
    "del stud3[\"mob\"]\n",
    "print(stud3)"
   ]
  },
  {
   "cell_type": "markdown",
   "metadata": {},
   "source": [
    "# Exercise_dictionary"
   ]
  },
  {
   "cell_type": "code",
   "execution_count": 177,
   "metadata": {},
   "outputs": [
    {
     "name": "stdout",
     "output_type": "stream",
     "text": [
      "{'apple': 'green', 'banana': 'yellow', 'cherry': 'red'}\n",
      "{'apple': 'red', 'banana': 'yellow', 'cherry': 'red'}\n",
      "{'apple': 'red', 'banana': 'yellow', 'cherry': 'red', 'guava': 'green'}\n",
      "{'apple': 'red', 'banana': 'yellow', 'guava': 'green'}\n"
     ]
    }
   ],
   "source": [
    "fruit={\"apple\":\"green\",\"banana\":\"yellow\",\"cherry\":\"red\"}\n",
    "print(fruit)\n",
    "fruit[\"apple\"]=\"red\"\n",
    "print(fruit)\n",
    "fruit[\"guava\"]=\"green\"\n",
    "print(fruit)\n",
    "del fruit[\"cherry\"]\n",
    "print(fruit)"
   ]
  },
  {
   "cell_type": "markdown",
   "metadata": {},
   "source": [
    "# Tuples"
   ]
  },
  {
   "cell_type": "code",
   "execution_count": 178,
   "metadata": {},
   "outputs": [
    {
     "name": "stdout",
     "output_type": "stream",
     "text": [
      "(1, 2)\n"
     ]
    }
   ],
   "source": [
    "a=(1,2)\n",
    "b=(3,4)\n",
    "print(a)"
   ]
  },
  {
   "cell_type": "markdown",
   "metadata": {},
   "source": [
    "# Exercise-Tuples(weight)"
   ]
  },
  {
   "cell_type": "code",
   "execution_count": 205,
   "metadata": {},
   "outputs": [
    {
     "name": "stdout",
     "output_type": "stream",
     "text": [
      "(70, 80)\n",
      "new weights:  (70, 80, 48, 50)\n",
      "maximum weight:  80\n",
      "minimum weight:  48\n",
      "sum of weights:  248\n",
      "mean of weights:  62.0\n"
     ]
    }
   ],
   "source": [
    "weights=(70,80,45,50)\n",
    "#weights=weights*2\n",
    "weights=weights[0:2]                     #perform indexing/slicing operation\n",
    "print(weights)\n",
    "weights_new=(70,80,48,50)\n",
    "minimum=min(weights_new)\n",
    "maximum=max(weights_new)\n",
    "sum_weights=sum(weight_new)\n",
    "mean_new=sum_weights/len(weight_new)\n",
    "print(\"new weights: \",weight_new)\n",
    "print(\"maximum weight: \",maximum)\n",
    "print(\"minimum weight: \",minimum)\n",
    "print(\"sum of weights: \",sum_weights)\n",
    "print(\"mean of weights: \",mean_new)\n"
   ]
  },
  {
   "cell_type": "markdown",
   "metadata": {},
   "source": [
    "# Add items in sequence"
   ]
  },
  {
   "cell_type": "code",
   "execution_count": 7,
   "metadata": {},
   "outputs": [
    {
     "name": "stdout",
     "output_type": "stream",
     "text": [
      "['wheat']\n",
      "['wheat', 'milk']\n",
      "['wheat', 'milk', 'egg']\n"
     ]
    }
   ],
   "source": [
    "cart=[]\n",
    "cart.append(\"wheat\")\n",
    "print(cart)\n",
    "cart.append(\"milk\")\n",
    "print(cart)\n",
    "cart.append(\"egg\")\n",
    "print(cart)"
   ]
  },
  {
   "cell_type": "code",
   "execution_count": 209,
   "metadata": {},
   "outputs": [
    {
     "name": "stdout",
     "output_type": "stream",
     "text": [
      "['wheat', 'apple', 'milk', 'egg']\n"
     ]
    }
   ],
   "source": [
    "cart.insert(1,\"apple\")       #add apple in given index\n",
    "print(cart)"
   ]
  },
  {
   "cell_type": "code",
   "execution_count": 211,
   "metadata": {},
   "outputs": [
    {
     "name": "stdout",
     "output_type": "stream",
     "text": [
      "['apple', 'egg', 'milk', 'wheat']\n"
     ]
    }
   ],
   "source": [
    "cart.sort()\n",
    "print(cart)"
   ]
  },
  {
   "cell_type": "code",
   "execution_count": 212,
   "metadata": {},
   "outputs": [
    {
     "name": "stdout",
     "output_type": "stream",
     "text": [
      "['wheat', 'milk', 'egg', 'apple']\n"
     ]
    }
   ],
   "source": [
    "cart.reverse()\n",
    "print(cart)"
   ]
  },
  {
   "cell_type": "code",
   "execution_count": 214,
   "metadata": {},
   "outputs": [
    {
     "name": "stdout",
     "output_type": "stream",
     "text": [
      "['wheat', 'milk', 'egg', 'apple', 'milk']\n"
     ]
    }
   ],
   "source": [
    "cart.append(\"milk\")\n",
    "print(cart)"
   ]
  },
  {
   "cell_type": "code",
   "execution_count": 216,
   "metadata": {},
   "outputs": [
    {
     "name": "stdout",
     "output_type": "stream",
     "text": [
      "['wheat', 'egg', 'apple']\n"
     ]
    }
   ],
   "source": [
    "cart.remove(\"milk\")\n",
    "print(cart)"
   ]
  },
  {
   "cell_type": "code",
   "execution_count": 217,
   "metadata": {},
   "outputs": [
    {
     "name": "stdout",
     "output_type": "stream",
     "text": [
      "['wheat', 'egg', 'apple', 'milk']\n"
     ]
    }
   ],
   "source": [
    "cart.append(\"milk\")\n",
    "print(cart)\n"
   ]
  },
  {
   "cell_type": "code",
   "execution_count": 218,
   "metadata": {},
   "outputs": [
    {
     "name": "stdout",
     "output_type": "stream",
     "text": [
      "['wheat', 'egg', 'apple', 'milk', 'milk']\n"
     ]
    }
   ],
   "source": [
    "cart.append(\"milk\")\n",
    "print(cart)"
   ]
  },
  {
   "cell_type": "code",
   "execution_count": 242,
   "metadata": {},
   "outputs": [
    {
     "name": "stdout",
     "output_type": "stream",
     "text": [
      "['wheat', 'egg', 'apple', 'milk', 'milk', 'milk']\n"
     ]
    }
   ],
   "source": [
    "cart.append(\"milk\")\n",
    "print(cart)"
   ]
  },
  {
   "cell_type": "code",
   "execution_count": 243,
   "metadata": {},
   "outputs": [
    {
     "name": "stdout",
     "output_type": "stream",
     "text": [
      "['wheat', 'egg', 'apple', 'milk', 'milk']\n"
     ]
    }
   ],
   "source": [
    "cart.remove(\"milk\")       #it will remove only first milk\n",
    "print(cart)"
   ]
  },
  {
   "cell_type": "markdown",
   "metadata": {},
   "source": [
    "# Sets"
   ]
  },
  {
   "cell_type": "code",
   "execution_count": 245,
   "metadata": {},
   "outputs": [
    {
     "name": "stdout",
     "output_type": "stream",
     "text": [
      "{1, 2, 3, 4, 5, 6, 7, 8}\n",
      "{1, 2, 3, 4, 5, 6, 8}\n"
     ]
    }
   ],
   "source": [
    "my_set={1,2,3,4,5,6,7}\n",
    "type(my_set)\n",
    "#<class 'set'>\n",
    "my_set.add(8)\n",
    "print(my_set)\n",
    "my_set.remove(7)\n",
    "print(my_set)"
   ]
  },
  {
   "cell_type": "code",
   "execution_count": 246,
   "metadata": {},
   "outputs": [
    {
     "data": {
      "text/plain": [
       "False"
      ]
     },
     "execution_count": 246,
     "metadata": {},
     "output_type": "execute_result"
    }
   ],
   "source": [
    "10 in my_set\n"
   ]
  },
  {
   "cell_type": "code",
   "execution_count": 247,
   "metadata": {},
   "outputs": [
    {
     "data": {
      "text/plain": [
       "True"
      ]
     },
     "execution_count": 247,
     "metadata": {},
     "output_type": "execute_result"
    }
   ],
   "source": [
    "6 in my_set"
   ]
  },
  {
   "cell_type": "code",
   "execution_count": 252,
   "metadata": {},
   "outputs": [
    {
     "name": "stdout",
     "output_type": "stream",
     "text": [
      "{1, 3}\n"
     ]
    }
   ],
   "source": [
    "set1={1,2,3,4}\n",
    "set2={2,4}\n",
    "set3=set1.difference(set2)\n",
    "print(set3)"
   ]
  },
  {
   "cell_type": "code",
   "execution_count": 253,
   "metadata": {},
   "outputs": [
    {
     "name": "stdout",
     "output_type": "stream",
     "text": [
      "set()\n"
     ]
    }
   ],
   "source": [
    "set4=set2.difference(set1)\n",
    "print(set4)"
   ]
  },
  {
   "cell_type": "markdown",
   "metadata": {},
   "source": [
    "# if-else"
   ]
  },
  {
   "cell_type": "code",
   "execution_count": 8,
   "metadata": {},
   "outputs": [
    {
     "name": "stdout",
     "output_type": "stream",
     "text": [
      "x=: 1\n",
      "y=: 2\n",
      "z=: 3\n",
      "the sum of 1 and 2 and 3 = 6\n",
      "the sum of 1 and 2 and 3 = 6\n",
      "z is greatest\n"
     ]
    }
   ],
   "source": [
    "x=int(input(\"x=: \"))\n",
    "y=int(input(\"y=: \"))\n",
    "z=int(input(\"z=: \"))\n",
    "q=x+y+z\n",
    "print(\"the sum of {} and {} and {} = {}\".format(x,y,z,q))\n",
    "print(\"the sum of\",x,\"and\",y,\"and\",z,\"=\",q)\n",
    "if x>y and x>z:\n",
    "    print(\"x is greatest\")\n",
    "elif y>x and y>z:\n",
    "    print(\"y is greatest\")\n",
    "elif z>x and z>y:\n",
    "    print(\"z is greatest\")\n",
    "else:\n",
    "    print(\" all are equall\")"
   ]
  },
  {
   "cell_type": "raw",
   "metadata": {},
   "source": [
    "x=input(\"x=: \")\n",
    "y=input(\"y=: \")\n",
    "z=input(\"z=: \")\n",
    "if x>y:\n",
    "    if x>z:\n",
    "        print(\"x is greatest\")\n",
    "    else:\n",
    "        print(\"z is greatest\")\n",
    "elif y>z:\n",
    "    print(\"y is greatest\")\n",
    "else:\n",
    "    print(\" all are equall\")"
   ]
  },
  {
   "cell_type": "markdown",
   "metadata": {},
   "source": [
    "# finding +ve/-ve or zero"
   ]
  },
  {
   "cell_type": "code",
   "execution_count": 1,
   "metadata": {},
   "outputs": [
    {
     "name": "stdout",
     "output_type": "stream",
     "text": [
      "x: 22\n",
      "22 is positive\n"
     ]
    }
   ],
   "source": [
    "x=int(input(\"x: \" ))\n",
    "if x>0:\n",
    "   # print(\"x is positive\")\n",
    "    print(\"{} is positive\".format(x))\n",
    "elif x<0 :\n",
    "    print(\"{} is negative\".format(x))\n",
    "else :\n",
    "    print(\"{} is zero\".format(x))"
   ]
  },
  {
   "cell_type": "markdown",
   "metadata": {},
   "source": [
    "# Odd/even"
   ]
  },
  {
   "cell_type": "code",
   "execution_count": 14,
   "metadata": {},
   "outputs": [
    {
     "name": "stdout",
     "output_type": "stream",
     "text": [
      "x=: 0\n",
      "0 is even\n"
     ]
    }
   ],
   "source": [
    "x=int(input(\"x=: \"))\n",
    "if x%2==0:\n",
    "    print(\"{} is even\".format(x))\n",
    "else:\n",
    "    print(\"{} is odd\".format(x))\n"
   ]
  },
  {
   "cell_type": "markdown",
   "metadata": {},
   "source": [
    "# input a string from user and check whether the word \"india\" is present or not"
   ]
  },
  {
   "cell_type": "code",
   "execution_count": 23,
   "metadata": {},
   "outputs": [
    {
     "name": "stdout",
     "output_type": "stream",
     "text": [
      "type string: my name is india\n",
      "yes\n"
     ]
    }
   ],
   "source": [
    "x=input(\"type string: \")\n",
    "if \"india\" in x:\n",
    "    print(\"india is present\")\n",
    "else:\n",
    "    print(\"india is not present\")"
   ]
  },
  {
   "cell_type": "markdown",
   "metadata": {},
   "source": [
    "# Pallendrom"
   ]
  },
  {
   "cell_type": "code",
   "execution_count": 25,
   "metadata": {},
   "outputs": [
    {
     "name": "stdout",
     "output_type": "stream",
     "text": [
      "type a word: malayalam\n",
      "pallendrom\n"
     ]
    }
   ],
   "source": [
    "x=input(\"type a word: \")\n",
    "reverse=x[-1::-1]\n",
    "if x==reverse:\n",
    "    print(\"pallendrom\")\n",
    "else:\n",
    "    print(\"not pallendrom\")"
   ]
  },
  {
   "cell_type": "markdown",
   "metadata": {},
   "source": [
    "# Loops-while"
   ]
  },
  {
   "cell_type": "code",
   "execution_count": 26,
   "metadata": {},
   "outputs": [
    {
     "name": "stdout",
     "output_type": "stream",
     "text": [
      "Sum of first 5 integers is:  10\n"
     ]
    }
   ],
   "source": [
    "num_sum=0\n",
    "count=0\n",
    "while(count<10):\n",
    "    num_sum=num_sum+count\n",
    "    count=count+1\n",
    "    if count==5:\n",
    "        break\n",
    "print(\"Sum of first\",count,\"integers is: \",num_sum)"
   ]
  },
  {
   "cell_type": "code",
   "execution_count": 29,
   "metadata": {},
   "outputs": [
    {
     "name": "stdout",
     "output_type": "stream",
     "text": [
      "Sum of first 1 integers is:  0\n",
      "Sum of first 2 integers is:  1\n",
      "Sum of first 3 integers is:  3\n",
      "Sum of first 4 integers is:  6\n",
      "Sum of first 6 integers is:  15\n",
      "Sum of first 7 integers is:  21\n",
      "Sum of first 8 integers is:  28\n",
      "Sum of first 9 integers is:  36\n",
      "Sum of first 10 integers is:  45\n"
     ]
    }
   ],
   "source": [
    "num_sum=0\n",
    "count=0\n",
    "while(count<10):\n",
    "    num_sum=num_sum+count\n",
    "    count=count+1\n",
    "    if count==5:\n",
    "        continue\n",
    "    print(\"Sum of first\",count,\"integers is: \",num_sum)"
   ]
  },
  {
   "cell_type": "markdown",
   "metadata": {},
   "source": [
    "# sum of first 10 natural number"
   ]
  },
  {
   "cell_type": "code",
   "execution_count": 15,
   "metadata": {},
   "outputs": [
    {
     "name": "stdout",
     "output_type": "stream",
     "text": [
      "sum of first 10 natural no. is:  55\n"
     ]
    }
   ],
   "source": [
    "sum_natural=0\n",
    "count=0\n",
    "while(count<11):\n",
    "    sum_natural=sum_natural+count\n",
    "    count=count+1\n",
    "print(\"sum of first 10 natural no. is: \",sum_natural)"
   ]
  },
  {
   "cell_type": "markdown",
   "metadata": {},
   "source": [
    "# for loop (for x in range(7)"
   ]
  },
  {
   "cell_type": "code",
   "execution_count": 17,
   "metadata": {},
   "outputs": [
    {
     "name": "stdout",
     "output_type": "stream",
     "text": [
      "0\n",
      "1\n",
      "2\n",
      "4\n",
      "5\n"
     ]
    }
   ],
   "source": [
    "for x in range(7):\n",
    "    if x==3 or x==6:\n",
    "        continue\n",
    "    print(x)"
   ]
  },
  {
   "cell_type": "code",
   "execution_count": 18,
   "metadata": {},
   "outputs": [
    {
     "name": "stdout",
     "output_type": "stream",
     "text": [
      "sum of first 10 natural no. is:  55\n"
     ]
    }
   ],
   "source": [
    "sum_natural=0\n",
    "for count in range (1,11):\n",
    "    sum_natural=sum_natural+count\n",
    "print(\"sum of first 10 natural no. is: \",sum_natural)"
   ]
  },
  {
   "cell_type": "markdown",
   "metadata": {},
   "source": [
    "# sum of all even and odd no. in first 10 natural no."
   ]
  },
  {
   "cell_type": "code",
   "execution_count": 22,
   "metadata": {},
   "outputs": [
    {
     "name": "stdout",
     "output_type": "stream",
     "text": [
      "sum of first 10 Even no. is:  30\n",
      "sum of first 10 Odd no. is:  25\n"
     ]
    }
   ],
   "source": [
    "count=0\n",
    "sum_even=0\n",
    "sum_odd=0\n",
    "for count in range (1,11):\n",
    "    if count%2 ==0:\n",
    "        sum_even=sum_even+count\n",
    "    else:\n",
    "        sum_odd=sum_odd+count\n",
    "print(\"sum of first 10 Even no. is: \",sum_even)\n",
    "print(\"sum of first 10 Odd no. is: \",sum_odd)"
   ]
  },
  {
   "cell_type": "code",
   "execution_count": 23,
   "metadata": {},
   "outputs": [
    {
     "name": "stdout",
     "output_type": "stream",
     "text": [
      "orange\n",
      "guava\n",
      "apple\n",
      "pineapple\n"
     ]
    }
   ],
   "source": [
    "cart=[\"orange\",\"guava\",\"apple\",\"pineapple\"]\n",
    "for i in cart:\n",
    "    print(i)"
   ]
  },
  {
   "cell_type": "code",
   "execution_count": 24,
   "metadata": {},
   "outputs": [
    {
     "name": "stdout",
     "output_type": "stream",
     "text": [
      "['orange', 'guava', 'apple', 'pineapple']\n"
     ]
    }
   ],
   "source": [
    "print(cart)"
   ]
  },
  {
   "cell_type": "code",
   "execution_count": null,
   "metadata": {},
   "outputs": [],
   "source": [
    "#home work\n",
    "print multiplication table(i and j multiply)\n",
    "print odd natural number series\n",
    "print floyd triangle\n",
    "1\n",
    "10\n",
    "101\n",
    "1010\n",
    "download my sql workbench or xampp server"
   ]
  },
  {
   "cell_type": "markdown",
   "metadata": {},
   "source": [
    "# Multiplication table"
   ]
  },
  {
   "cell_type": "code",
   "execution_count": 55,
   "metadata": {},
   "outputs": [
    {
     "name": "stdout",
     "output_type": "stream",
     "text": [
      "input number: 5\n",
      "5 * 1 = 5\n",
      "5 * 2 = 10\n",
      "5 * 3 = 15\n",
      "5 * 4 = 20\n",
      "5 * 5 = 25\n",
      "5 * 6 = 30\n",
      "5 * 7 = 35\n",
      "5 * 8 = 40\n",
      "5 * 9 = 45\n",
      "5 * 10 = 50\n"
     ]
    }
   ],
   "source": [
    "i=int(input(\"input number: \"))\n",
    "j=1\n",
    "#for range i in range(10)\n",
    "for j in range(1,11):\n",
    "    print(i,\"*\",j,\"=\",i*j)\n",
    "j+=1"
   ]
  },
  {
   "cell_type": "code",
   "execution_count": null,
   "metadata": {},
   "outputs": [],
   "source": []
  },
  {
   "cell_type": "code",
   "execution_count": null,
   "metadata": {},
   "outputs": [],
   "source": []
  }
 ],
 "metadata": {
  "kernelspec": {
   "display_name": "Python 3",
   "language": "python",
   "name": "python3"
  },
  "language_info": {
   "codemirror_mode": {
    "name": "ipython",
    "version": 3
   },
   "file_extension": ".py",
   "mimetype": "text/x-python",
   "name": "python",
   "nbconvert_exporter": "python",
   "pygments_lexer": "ipython3",
   "version": "3.7.3"
  }
 },
 "nbformat": 4,
 "nbformat_minor": 2
}
