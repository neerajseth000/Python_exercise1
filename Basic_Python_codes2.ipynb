{
 "cells": [
  {
   "cell_type": "code",
   "execution_count": 2,
   "metadata": {},
   "outputs": [],
   "source": [
    "import numpy as np\n",
    "import pandas as pd"
   ]
  },
  {
   "cell_type": "code",
   "execution_count": 15,
   "metadata": {},
   "outputs": [
    {
     "name": "stdout",
     "output_type": "stream",
     "text": [
      "enter x: 1634\n",
      "Yes\n"
     ]
    }
   ],
   "source": [
    "value=int(input(\"enter x: \"))\n",
    "value1=value\n",
    "armstrong_check=0\n",
    "power=len(str(value))\n",
    "while value>0:\n",
    "    mod=value%10\n",
    "    value=value//10\n",
    "    armstrong_check=armstrong_check+(mod**power)\n",
    "if armstrong_check==value1:\n",
    "    print(\"Yes\")\n",
    "else:\n",
    "    print(\"NO\")"
   ]
  },
  {
   "cell_type": "code",
   "execution_count": 3,
   "metadata": {},
   "outputs": [
    {
     "name": "stdout",
     "output_type": "stream",
     "text": [
      "enter x: 1234567981011\n",
      "48\n"
     ]
    }
   ],
   "source": [
    "value=int(input(\"enter x: \"))\n",
    "sum=0\n",
    "while value>0:\n",
    "    mod=value%10\n",
    "    value=value//10\n",
    "    sum=sum+mod\n",
    "print(sum)"
   ]
  },
  {
   "cell_type": "code",
   "execution_count": 4,
   "metadata": {},
   "outputs": [
    {
     "name": "stdout",
     "output_type": "stream",
     "text": [
      "enter x: 9\n",
      "         *\n",
      "        ***\n",
      "       *****\n",
      "      *******\n",
      "     *********\n",
      "    ***********\n",
      "   *************\n",
      "  ***************\n",
      " *****************\n"
     ]
    }
   ],
   "source": [
    "x=int(input(\"enter x: \"))\n",
    "rows=x\n",
    "for i in range (1,x+1):\n",
    "    space=\"\"\n",
    "    star=\"\"\n",
    "    for j in range(rows,0,-1):\n",
    "        space=space+\" \"\n",
    "    for k in range(1,2*i):\n",
    "        star=star+\"*\"\n",
    "    print(space+star)\n",
    "    rows=rows-1"
   ]
  },
  {
   "cell_type": "code",
   "execution_count": 8,
   "metadata": {},
   "outputs": [
    {
     "name": "stdout",
     "output_type": "stream",
     "text": [
      "enter x: 5\n",
      "  1 \n",
      "  2   3 \n",
      "  4   5   6 \n",
      "  7   8   9   10 \n",
      "  11   12   13   14   15 \n"
     ]
    }
   ],
   "source": [
    "x=int(input(\"enter x: \"))\n",
    "sum1=0\n",
    "num=1\n",
    "for i in range(1,x+1):\n",
    "    \n",
    "    for j in range(1,i+1):\n",
    "        \n",
    "        print(\" \",num,end=\" \")\n",
    "        num= num+1\n",
    "    print(\"\\r\")"
   ]
  },
  {
   "cell_type": "code",
   "execution_count": 1,
   "metadata": {},
   "outputs": [
    {
     "name": "stdout",
     "output_type": "stream",
     "text": [
      "enter n: 5\n",
      "     0\n",
      "    123\n",
      "   45678\n",
      "  9123456\n",
      " 789123456\n"
     ]
    }
   ],
   "source": [
    "n=int(input(\"enter n: \"))\n",
    "rows=n\n",
    "num_pat=0\n",
    "for i in range (1,n+1):\n",
    "    space=\"\"\n",
    "    star=\"\"\n",
    "    \n",
    "    for j in range(rows,0,-1):\n",
    "        space=space+\" \"\n",
    "        \n",
    "    for k in range(1,2*i):\n",
    "        star=star+str(num_pat)\n",
    "        num_pat=num_pat+1\n",
    "        if num_pat>9:\n",
    "            num_pat=1\n",
    "    print(space+star)\n",
    "    rows=rows-1"
   ]
  },
  {
   "cell_type": "code",
   "execution_count": 45,
   "metadata": {},
   "outputs": [
    {
     "name": "stdout",
     "output_type": "stream",
     "text": [
      "no. of rows: 5\n",
      " 1\n",
      " 10\n",
      " 101\n",
      " 1010\n",
      " 10101\n"
     ]
    }
   ],
   "source": [
    "n=int(input(\"no. of rows: \" ))\n",
    "str1=\" \"\n",
    "flag=\"1\"\n",
    "for i in range(1,n+1):\n",
    "    str1=str1+flag\n",
    "    print(str1)\n",
    "    if flag==\"1\":\n",
    "        flag=\"0\"\n",
    "    else:\n",
    "        flag=\"1\""
   ]
  },
  {
   "cell_type": "markdown",
   "metadata": {},
   "source": [
    "find all words in string that has less than 4 letter"
   ]
  },
  {
   "cell_type": "code",
   "execution_count": 399,
   "metadata": {},
   "outputs": [
    {
     "name": "stdout",
     "output_type": "stream",
     "text": [
      "type string: neeraj is a goody boy\n",
      "is\n",
      "a\n",
      "boy\n"
     ]
    }
   ],
   "source": [
    "x=input(\"type string: \" )\n",
    "z=x.split(\" \")\n",
    "for i in z:\n",
    "    if len(i)<4:\n",
    "        print(i)"
   ]
  },
  {
   "cell_type": "code",
   "execution_count": 7,
   "metadata": {},
   "outputs": [
    {
     "data": {
      "text/plain": [
       "[0, 2, 4, 6, 8]"
      ]
     },
     "execution_count": 7,
     "metadata": {},
     "output_type": "execute_result"
    }
   ],
   "source": [
    "[x for x in range (10) if x%2==0]"
   ]
  },
  {
   "cell_type": "code",
   "execution_count": 9,
   "metadata": {},
   "outputs": [
    {
     "name": "stdout",
     "output_type": "stream",
     "text": [
      "enter string: asadefgh\n",
      "Anti_Vowels are:  sdfgh\n"
     ]
    }
   ],
   "source": [
    "# remove wovels from string\n",
    "def anti_vowel(c):\n",
    "    newstr = c\n",
    "    vowels = ('a', 'e', 'i', 'o', 'u')\n",
    "    for x in c.lower():\n",
    "        if x in vowels:\n",
    "            newstr = newstr.replace(x,\"\")\n",
    "\n",
    "    return newstr\n",
    "x=input(\"enter string: \")\n",
    "print(\"Anti_Vowels are: \",anti_vowel(x))"
   ]
  },
  {
   "cell_type": "markdown",
   "metadata": {},
   "source": [
    "# count space in string"
   ]
  },
  {
   "cell_type": "code",
   "execution_count": 50,
   "metadata": {},
   "outputs": [
    {
     "name": "stdout",
     "output_type": "stream",
     "text": [
      "enter stringmy name is seth\n",
      "3\n"
     ]
    }
   ],
   "source": [
    "text=input(\"enter string: \")\n",
    "a=[x for x in range (0, len(text)-1) if text[x]==\" \"]\n",
    "print(len(a))"
   ]
  },
  {
   "cell_type": "markdown",
   "metadata": {},
   "source": [
    "find all words in string has less than 4v letter"
   ]
  },
  {
   "cell_type": "code",
   "execution_count": 61,
   "metadata": {},
   "outputs": [
    {
     "name": "stdout",
     "output_type": "stream",
     "text": [
      "enter stringmy name is\n",
      "my\n",
      "is\n"
     ]
    }
   ],
   "source": [
    "text=input(\"enter string\")\n",
    "x= text.split(\" \")\n",
    "for i in x:\n",
    "    if len(i)<4:\n",
    "        print(i)\n"
   ]
  },
  {
   "cell_type": "code",
   "execution_count": 63,
   "metadata": {},
   "outputs": [
    {
     "name": "stdout",
     "output_type": "stream",
     "text": [
      "enter stringmy name is seth\n",
      "['my', 'is']\n"
     ]
    }
   ],
   "source": [
    "text=input(\"enter string\")\n",
    "word_list=[x for x in text.split(\" \") if len(x)<4]\n",
    "print(word_list)"
   ]
  },
  {
   "cell_type": "code",
   "execution_count": 74,
   "metadata": {},
   "outputs": [
    {
     "data": {
      "text/plain": [
       "30"
      ]
     },
     "execution_count": 74,
     "metadata": {},
     "output_type": "execute_result"
    }
   ],
   "source": [
    "sum1=lambda x,y:x+y\n",
    "sum1(10,20)"
   ]
  },
  {
   "cell_type": "code",
   "execution_count": 80,
   "metadata": {},
   "outputs": [
    {
     "name": "stdout",
     "output_type": "stream",
     "text": [
      "enter stringneeraj\n",
      "enter stringseth\n",
      "sethneeraj\n"
     ]
    }
   ],
   "source": [
    "fname=input(\"enter string\")\n",
    "lname=input(\"enter string\")\n",
    "rev_name=lambda x,y:y+\" \"+x\n",
    "print(rev_name(fname,lname))"
   ]
  },
  {
   "cell_type": "code",
   "execution_count": 81,
   "metadata": {},
   "outputs": [
    {
     "name": "stdout",
     "output_type": "stream",
     "text": [
      "enter x: 10\n",
      "enter y: 15\n",
      "greater no. is 15\n"
     ]
    }
   ],
   "source": [
    "x=int(input(\"enter x: \"))\n",
    "y=int(input(\"enter y: \"))\n",
    "z=lambda x,y:x if x>y else y\n",
    "print(\"greater no. is\",z(x,y))"
   ]
  },
  {
   "cell_type": "code",
   "execution_count": 83,
   "metadata": {},
   "outputs": [],
   "source": [
    "li=[x for x in range (1,11) if x%2==0]\n",
    "z=list(map(lambda x:x**2,li))\n",
    "z"
   ]
  },
  {
   "cell_type": "code",
   "execution_count": 85,
   "metadata": {},
   "outputs": [
    {
     "data": {
      "text/plain": [
       "[4, 16, 36, 64, 100]"
      ]
     },
     "execution_count": 85,
     "metadata": {},
     "output_type": "execute_result"
    }
   ],
   "source": [
    "list(map(lambda x:x**2,[x for x in range (1,11) if x%2==0]))"
   ]
  },
  {
   "cell_type": "code",
   "execution_count": 86,
   "metadata": {},
   "outputs": [],
   "source": [
    "import math"
   ]
  },
  {
   "cell_type": "markdown",
   "metadata": {},
   "source": [
    "find manhatta and eudidean distance between two points"
   ]
  },
  {
   "cell_type": "code",
   "execution_count": 99,
   "metadata": {},
   "outputs": [
    {
     "name": "stdout",
     "output_type": "stream",
     "text": [
      "x1: 2\n",
      "y1: 4\n",
      "x2: 10\n",
      "y2: 12\n",
      "11.313708498984761\n",
      "16.0\n"
     ]
    }
   ],
   "source": [
    "x1=float(input(\"x1: \"))\n",
    "y1=float(input(\"y1: \"))\n",
    "x2=float(input(\"x2: \"))\n",
    "y2=float(input(\"y2: \"))\n",
    "distance1=lambda x1,y1,x2,y2:math.sqrt(((x1-x2)**2)+((y1-y2)**2))\n",
    "distance2=lambda x1,y1,x2,y2:abs((x1-x2))+abs((y1-y2))\n",
    "print(distance1(x1,y1,x2,y2))\n",
    "print(distance2(x1,y1,x2,y2))"
   ]
  },
  {
   "cell_type": "code",
   "execution_count": 98,
   "metadata": {},
   "outputs": [
    {
     "name": "stdout",
     "output_type": "stream",
     "text": [
      "[2, 4, 6, 8, 10]\n"
     ]
    }
   ],
   "source": [
    "print(list(filter(lambda x:x,[x for x in range(1,11) if x%2==0]))) # filter is replacement of if"
   ]
  },
  {
   "cell_type": "code",
   "execution_count": 100,
   "metadata": {},
   "outputs": [
    {
     "name": "stdout",
     "output_type": "stream",
     "text": [
      "[2, 4, 6, 8, 10]\n"
     ]
    }
   ],
   "source": [
    "print(list(filter(lambda x:x%2==0,[x for x in range(1,11)])))"
   ]
  },
  {
   "cell_type": "code",
   "execution_count": 418,
   "metadata": {},
   "outputs": [
    {
     "data": {
      "text/plain": [
       "24"
      ]
     },
     "execution_count": 418,
     "metadata": {},
     "output_type": "execute_result"
    }
   ],
   "source": [
    "num = 4\n",
    "(lambda a, b: a(a, b))  (lambda a, b: b*a(a, b-1) if b > 0 else 1, num) "
   ]
  },
  {
   "cell_type": "code",
   "execution_count": 21,
   "metadata": {},
   "outputs": [],
   "source": [
    "import functools"
   ]
  },
  {
   "cell_type": "code",
   "execution_count": 22,
   "metadata": {},
   "outputs": [
    {
     "data": {
      "text/plain": [
       "55"
      ]
     },
     "execution_count": 22,
     "metadata": {},
     "output_type": "execute_result"
    }
   ],
   "source": [
    "add=functools.reduce(lambda x,y:x+y,[x for x in range(1,11)]) #sum of 1st 10 integer\n",
    "add"
   ]
  },
  {
   "cell_type": "code",
   "execution_count": 29,
   "metadata": {},
   "outputs": [
    {
     "name": "stdout",
     "output_type": "stream",
     "text": [
      "base: 2\n",
      "n: 5\n"
     ]
    },
    {
     "data": {
      "text/plain": [
       "62"
      ]
     },
     "execution_count": 29,
     "metadata": {},
     "output_type": "execute_result"
    }
   ],
   "source": [
    "# sum of all numbers of (base^n) for exampple if base=2 and n=5 then sum=(2+4+8+16+32)\n",
    "base=int(input(\"base: \"))\n",
    "n=int(input(\"n: \"))\n",
    "add1=functools.reduce(lambda x,y:x+base**y,[x for x in range(0,n+1)])\n",
    "add1"
   ]
  },
  {
   "cell_type": "code",
   "execution_count": null,
   "metadata": {},
   "outputs": [],
   "source": []
  },
  {
   "cell_type": "code",
   "execution_count": 143,
   "metadata": {},
   "outputs": [
    {
     "name": "stdout",
     "output_type": "stream",
     "text": [
      "valid string\n"
     ]
    }
   ],
   "source": [
    "# find if a string start with digit\n",
    "import re\n",
    "str=\"6neearj\"\n",
    "if re.search(\"^[0-9]\",str):\n",
    "    print(\"valid string\")\n",
    "else:\n",
    "    print(\"INvalid string\")"
   ]
  },
  {
   "cell_type": "code",
   "execution_count": 144,
   "metadata": {},
   "outputs": [
    {
     "name": "stdout",
     "output_type": "stream",
     "text": [
      "INvalid string\n"
     ]
    }
   ],
   "source": [
    "# find if a string end with digit\n",
    "import re\n",
    "str=\"6neearj\"\n",
    "if re.search(\"[0-9]$\",str):\n",
    "    print(\"valid string\")\n",
    "else:\n",
    "    print(\"INvalid string\")"
   ]
  },
  {
   "cell_type": "code",
   "execution_count": 151,
   "metadata": {},
   "outputs": [
    {
     "name": "stdout",
     "output_type": "stream",
     "text": [
      "INvalid string\n"
     ]
    }
   ],
   "source": [
    "# check if string contains any character- $,#,@\n",
    "import re\n",
    "str=\"neeraj\"\n",
    "if re.search(\"[$|#|@]\",str):\n",
    "    print(\"valid string\")\n",
    "else:\n",
    "    print(\"INvalid string\")"
   ]
  },
  {
   "cell_type": "raw",
   "metadata": {},
   "source": [
    "minimum 8 characters\n",
    "alphabates between[a-z]\n",
    "atleast 1 no. or digit between [0-9]\n",
    "should end with @"
   ]
  },
  {
   "cell_type": "code",
   "execution_count": 32,
   "metadata": {},
   "outputs": [
    {
     "name": "stdout",
     "output_type": "stream",
     "text": [
      "valid string\n"
     ]
    }
   ],
   "source": [
    "import re\n",
    "str=\"neellraj@\"\n",
    "if (len(str)>8):\n",
    "    if re.search(\"[a-z]\" and \"[0-9]\" and '[@]$',str):\n",
    "        print(\"valid string\")\n",
    "else:\n",
    "    print(\"INvalid string\")"
   ]
  }
 ],
 "metadata": {
  "kernelspec": {
   "display_name": "Python 3",
   "language": "python",
   "name": "python3"
  },
  "language_info": {
   "codemirror_mode": {
    "name": "ipython",
    "version": 3
   },
   "file_extension": ".py",
   "mimetype": "text/x-python",
   "name": "python",
   "nbconvert_exporter": "python",
   "pygments_lexer": "ipython3",
   "version": "3.7.3"
  }
 },
 "nbformat": 4,
 "nbformat_minor": 2
}
